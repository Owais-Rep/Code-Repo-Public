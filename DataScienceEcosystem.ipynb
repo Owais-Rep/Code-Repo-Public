{
 "cells": [
  {
   "cell_type": "markdown",
   "id": "cbf5c76d-0121-4a7d-a0e8-6f3c29288ffb",
   "metadata": {
    "tags": []
   },
   "source": [
    "# Data Science Tools and Ecosystem"
   ]
  },
  {
   "cell_type": "markdown",
   "id": "04c9f1ea-312a-42c7-a2ee-ef25bf099c28",
   "metadata": {
    "tags": []
   },
   "source": [
    "In this notebook, Data Science Tools and Ecosystem are sumarized."
   ]
  },
  {
   "cell_type": "markdown",
   "id": "7837ec1f-4830-41d1-99d4-c2bb3cb1c675",
   "metadata": {},
   "source": [
    "**Objectives:**\n",
    "- Learn popular languages\n",
    "- Leran open source development tools\n",
    "- How to format text in markdown cells in jupyter notebook\n",
    "- List of libraries"
   ]
  },
  {
   "cell_type": "markdown",
   "id": "ee4a78b6-24ff-44cb-a6de-2d135501fb97",
   "metadata": {},
   "source": [
    "Some of the popular languages that Data Scientists use are:\n",
    "1. Python\n",
    "2. R\n",
    "3. Java"
   ]
  },
  {
   "cell_type": "markdown",
   "id": "9535a102-32c6-4373-bcdd-0840232afc2c",
   "metadata": {},
   "source": [
    "Some commonly used libraries used by Data Scientists include:\n",
    "1. Numpy\n",
    "2. Matplotlib\n",
    "3. Pandas\n",
    "4. Seaborn"
   ]
  },
  {
   "cell_type": "markdown",
   "id": "8c69f5ba-adf7-4f96-9627-e63b2a0891b9",
   "metadata": {},
   "source": [
    "|Data Science Tools|\n",
    "|---------------|\n",
    "|Jupyter|\n",
    "|RStudio|\n",
    "|Apache|"
   ]
  },
  {
   "cell_type": "markdown",
   "id": "ac106497-07c5-4802-ad23-3a0a8f015b19",
   "metadata": {},
   "source": [
    "### Below are a few examples of evaluating arthmetic expressions in Python"
   ]
  },
  {
   "cell_type": "code",
   "execution_count": 2,
   "id": "9b39b8b9-41c8-4090-8723-ec7cf5e4490f",
   "metadata": {
    "tags": []
   },
   "outputs": [
    {
     "data": {
      "text/plain": [
       "17"
      ]
     },
     "execution_count": 2,
     "metadata": {},
     "output_type": "execute_result"
    }
   ],
   "source": [
    "# This is simple arthmetic expression to multiply then add integers\n",
    "(3*4)+5"
   ]
  },
  {
   "cell_type": "code",
   "execution_count": 3,
   "id": "1737fb36-f283-4827-add9-62aa7aff86da",
   "metadata": {
    "tags": []
   },
   "outputs": [
    {
     "data": {
      "text/plain": [
       "3.3333333333333335"
      ]
     },
     "execution_count": 3,
     "metadata": {},
     "output_type": "execute_result"
    }
   ],
   "source": [
    "# This will convert 200 minutes to hours by divinding by 60\n",
    "200/60"
   ]
  },
  {
   "cell_type": "markdown",
   "id": "22358d25-bce6-4b28-82c3-24636e542c5d",
   "metadata": {
    "tags": []
   },
   "source": [
    "## Auther\n",
    "Owais Ahmed"
   ]
  },
  {
   "cell_type": "code",
   "execution_count": null,
   "id": "3a69775a-de8b-4198-b3b0-aacdb61d60fd",
   "metadata": {},
   "outputs": [],
   "source": []
  }
 ],
 "metadata": {
  "kernelspec": {
   "display_name": "Python 3 (ipykernel)",
   "language": "python",
   "name": "python3"
  },
  "language_info": {
   "codemirror_mode": {
    "name": "ipython",
    "version": 3
   },
   "file_extension": ".py",
   "mimetype": "text/x-python",
   "name": "python",
   "nbconvert_exporter": "python",
   "pygments_lexer": "ipython3",
   "version": "3.11.4"
  }
 },
 "nbformat": 4,
 "nbformat_minor": 5
}
